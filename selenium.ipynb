{
  "cells": [
    {
      "cell_type": "code",
      "execution_count": null,
      "metadata": {
        "id": "xaJoZcnMD9qt"
      },
      "outputs": [],
      "source": [
        "!apt-get update\n",
        "!apt-get install chromium-chromedriver\n",
        "!pip install selenium"
      ]
    },
    {
      "cell_type": "code",
      "execution_count": 16,
      "metadata": {
        "id": "aw1nLM1bD9qy"
      },
      "outputs": [],
      "source": [
        "from selenium import webdriver\n",
        "from selenium.webdriver.common.keys import Keys\n",
        "from selenium.webdriver.common.action_chains import ActionChains\n",
        "import time\n",
        "import threading"
      ]
    },
    {
      "cell_type": "code",
      "execution_count": 28,
      "metadata": {
        "id": "LmgLKIVgD9qz"
      },
      "outputs": [],
      "source": [
        "def watch_link(url):\n",
        "    chrome_options = webdriver.ChromeOptions()\n",
        "    chrome_options.add_argument(\"--headless\")\n",
        "    chrome_options.add_argument(\"--hni-sanbox\")\n",
        "    chrome_options.add_argument(\"--incognito\")\n",
        "    driver = webdriver.Chrome(options=chrome_options)\n",
        "    print(\"Watching:\"+\"https://youtube/\"+url)\n",
        "    driver.get(\"https://youtube/\"+url)\n",
        "    time.sleep(15)\n",
        "    try:\n",
        "        driver.find_element_by_xpath('//*[@id=\"movie_player\"]').click()\n",
        "    except Exception as e:\n",
        "        ActionChains(driver).send_keys(\"k\").perform()\n",
        "    time.sleep(60)\n",
        "    driver.save_screenshot(threading.current_thread().name+\"-\"+url+\".png\")\n"
      ]
    },
    {
      "cell_type": "code",
      "execution_count": null,
      "metadata": {
        "id": "5577NM-lD9q1"
      },
      "outputs": [],
      "source": [
        "link_to_watch = [\"MCg5z210x24\"]\n",
        "time_to_watch = 3\n",
        "threads = []\n",
        "i = 1\n",
        "for link in link_to_watch:\n",
        "    for ttw in range(time_to_watch):\n",
        "        threads.append(threading.Thread(target=watch_link, args=(link, ) ,name=str(i)))\n",
        "        i+=1\n",
        "\n",
        "for thread in threads:\n",
        "  thread.start()\n",
        "\n",
        "for thread in threads:\n",
        "  thread.join()\n",
        "\n",
        "print(\"done\")"
      ]
    }
  ],
  "metadata": {
    "language_info": {
      "name": "python"
    },
    "orig_nbformat": 4,
    "colab": {
      "provenance": []
    },
    "kernelspec": {
      "name": "python3",
      "display_name": "Python 3"
    },
    "gpuClass": "standard"
  },
  "nbformat": 4,
  "nbformat_minor": 0
}